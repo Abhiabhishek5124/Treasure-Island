{
 "cells": [
  {
   "cell_type": "code",
   "execution_count": 1,
   "id": "e78e5371",
   "metadata": {},
   "outputs": [
    {
     "ename": "IndentationError",
     "evalue": "expected an indented block after 'for' statement on line 17 (168681416.py, line 18)",
     "output_type": "error",
     "traceback": [
      "\u001b[0;36m  Cell \u001b[0;32mIn[1], line 18\u001b[0;36m\u001b[0m\n\u001b[0;31m    for j in range (30) :\u001b[0m\n\u001b[0m    ^\u001b[0m\n\u001b[0;31mIndentationError\u001b[0m\u001b[0;31m:\u001b[0m expected an indented block after 'for' statement on line 17\n"
     ]
    }
   ],
   "source": [
    "Island = IslandClass()\n",
    "\n",
    "DisplayGrid()\n",
    "for Treasure in range(3):\n",
    "    Island.HideTreasure()\n",
    "\n",
    "StartDig()\n",
    "DisplayGrid()\n",
    "\n",
    "class IslandClass:\n",
    " def __init__(self):\n",
    "    Sand = '.'\n",
    "    self.__Grid = [[Sand for j in range(30)]\n",
    "    for i in range(10)]\n",
    "\n",
    "def DisplayGrid() :\n",
    " for i in range (10) :\n",
    " \tfor j in range (30) :\n",
    " print(island.GetSquare(i, j), end='')\n",
    " print()\n",
    "\n",
    "def HideTreasure(self):\n",
    " Treasure = 'T'\n",
    " x = randint(0,9)\n",
    " y = randint(0,29)\n",
    " while self.__Grid[y][x] == Treasure:\n",
    " x = randint(0,9)\n",
    " y = randint(0,29)\n",
    " self.__Grid[y][x] = Treasure\n",
    "\n",
    "\n",
    "def DigHole(self, x, y):\n",
    "    Treasure = 'T'\n",
    "\n",
    "\n",
    "Hole = 'O'\n",
    "\n",
    "Foundtreasure = 'X'\n",
    "if self.__Grid[x][y] == Treasure\n",
    "self.__Grid[x][y] = Foundtreasure\n",
    "else:\n",
    "self.__Grid[x][y] = Hole\n",
    "return\n",
    "\n",
    "def StartDig() :\n",
    " Valid = False\n",
    " while not Valid : # validate down position\n",
    " try:\n",
    " x = int(input(\"position down <0 to 9> ? \"))\n",
    " if x >= 0 and x <= 9 : 1\n",
    " Valid = True\n",
    " except:\n",
    " Valid = False\n",
    " Valid = False\n",
    " while not Valid : # validate across position\n",
    " try :\n",
    " y = int(input(\"position across <0 to 29> ? \"))\n",
    " if y >= 0 and y <= 29\n",
    " Valid = True\n",
    " except :\n",
    " Valid = False\n",
    " island.DigHole(x, y)\n",
    " return"
   ]
  },
  {
   "cell_type": "code",
   "execution_count": null,
   "id": "bfa5de73",
   "metadata": {},
   "outputs": [],
   "source": []
  }
 ],
 "metadata": {
  "kernelspec": {
   "display_name": "Python 3 (ipykernel)",
   "language": "python",
   "name": "python3"
  },
  "language_info": {
   "codemirror_mode": {
    "name": "ipython",
    "version": 3
   },
   "file_extension": ".py",
   "mimetype": "text/x-python",
   "name": "python",
   "nbconvert_exporter": "python",
   "pygments_lexer": "ipython3",
   "version": "3.10.9"
  }
 },
 "nbformat": 4,
 "nbformat_minor": 5
}
